{
 "cells": [
  {
   "cell_type": "code",
   "execution_count": 1,
   "metadata": {},
   "outputs": [],
   "source": [
    "from dotenv import load_dotenv\n",
    "load_dotenv()\n",
    "from tqdm.auto import tqdm\n",
    "from uuid import uuid4\n",
    "from langchain_openai import OpenAI, OpenAIEmbeddings, ChatOpenAI\n",
    "from langchain.prompts import PromptTemplate\n",
    "from langchain.output_parsers import PydanticOutputParser\n",
    "from langchain.text_splitter import CharacterTextSplitter\n",
    "from langchain_chroma import Chroma\n",
    "from langchain.document_loaders.csv_loader import CSVLoader\n",
    "from langchain.chains.question_answering import load_qa_chain\n",
    "from pydantic import BaseModel, Field, PositiveInt, model_validator"
   ]
  },
  {
   "cell_type": "markdown",
   "metadata": {},
   "source": [
    "## 1. Data Generation\n",
    "In this section of the jupyter notebook, we will generate the data for the project. There are multiple possible fields that can be used in a realestate listing, but for this project, I have tried to limit the fields to the most common ones. "
   ]
  },
  {
   "cell_type": "code",
   "execution_count": 2,
   "metadata": {},
   "outputs": [],
   "source": [
    "model_name = \"gpt-3.5-turbo-instruct\"\n",
    "temperature = 1\n",
    "llm = OpenAI(model_name=model_name, temperature=temperature, max_tokens=3000)"
   ]
  },
  {
   "cell_type": "code",
   "execution_count": 4,
   "metadata": {},
   "outputs": [],
   "source": [
    "# Defining the output template for easier parsing\n",
    "class RealestateResponseFormatter(BaseModel):\n",
    "    house_size: PositiveInt = Field(description=\"The size of a house in square feet.\", gt=500, lt=5000, multiple_of=50)\n",
    "    neighborhood: str =Field(description=\"A fictional neighborhood name at which the house is located.\")\n",
    "    cost: PositiveInt = Field(description=\"The cost of the house in USD.\", gt=100000, multiple_of=1500)\n",
    "    bedrooms: PositiveInt = Field(description=\"The number of bedrooms in the house.\", gt=0, lt=10)\n",
    "    bathrooms: PositiveInt = Field(description=\"The number of bathrooms in the house.\", gt=0, lt=10)\n",
    "    garage: bool = Field(description=\"Whether the house has a garage or not.\")\n",
    "    pool: bool = Field(description=\"Whether the house has a pool or not.\")\n",
    "    yard: bool = Field(description=\"Whether the house has a yard or not.\")\n",
    "    basement: bool = Field(description=\"Whether the house has a basement or not.\")\n",
    "    nearby_features: str = Field(description=\"A list of nearby features, such as schools, parks, shopping centers, etc.\")\n",
    "    house_description: str = Field(description=\"A description of the house. This should be a few sentences long, and describe the house using the other fields defined.\")\n",
    "    neighborhood_description: str = Field(description=\"A description of the neighborhood. This should be a few sentences long, and describe the neighborhood, including any amenities, security, schools, parks, etc.\")\n",
    "\n",
    "# Defining the pydantic parser\n",
    "parser = PydanticOutputParser(pydantic_object=RealestateResponseFormatter)\n",
    "all_listings =[] # List to store all the listings"
   ]
  },
  {
   "cell_type": "code",
   "execution_count": 5,
   "metadata": {},
   "outputs": [
    {
     "name": "stdout",
     "output_type": "stream",
     "text": [
      "Generate Real-estate Listings in the provided format. Make the listing as unique as possible.  \n",
      "The output should be formatted as a JSON instance that conforms to the JSON schema below.\n",
      "\n",
      "As an example, for the schema {\"properties\": {\"foo\": {\"title\": \"Foo\", \"description\": \"a list of strings\", \"type\": \"array\", \"items\": {\"type\": \"string\"}}}, \"required\": [\"foo\"]}\n",
      "the object {\"foo\": [\"bar\", \"baz\"]} is a well-formatted instance of the schema. The object {\"properties\": {\"foo\": [\"bar\", \"baz\"]}} is not well-formatted.\n",
      "\n",
      "Here is the output schema:\n",
      "```\n",
      "{\"properties\": {\"house_size\": {\"description\": \"The size of a house in square feet.\", \"exclusiveMaximum\": 5000, \"exclusiveMinimum\": 0, \"multipleOf\": 50, \"title\": \"House Size\", \"type\": \"integer\"}, \"neighborhood\": {\"description\": \"A fictional neighborhood name at which the house is located.\", \"title\": \"Neighborhood\", \"type\": \"string\"}, \"cost\": {\"description\": \"The cost of the house in USD.\", \"exclusiveMinimum\": 0, \"multipleOf\": 1500, \"title\": \"Cost\", \"type\": \"integer\"}, \"bedrooms\": {\"description\": \"The number of bedrooms in the house.\", \"exclusiveMaximum\": 10, \"exclusiveMinimum\": 0, \"title\": \"Bedrooms\", \"type\": \"integer\"}, \"bathrooms\": {\"description\": \"The number of bathrooms in the house.\", \"exclusiveMaximum\": 10, \"exclusiveMinimum\": 0, \"title\": \"Bathrooms\", \"type\": \"integer\"}, \"garage\": {\"description\": \"Whether the house has a garage or not.\", \"title\": \"Garage\", \"type\": \"boolean\"}, \"pool\": {\"description\": \"Whether the house has a pool or not.\", \"title\": \"Pool\", \"type\": \"boolean\"}, \"yard\": {\"description\": \"Whether the house has a yard or not.\", \"title\": \"Yard\", \"type\": \"boolean\"}, \"basement\": {\"description\": \"Whether the house has a basement or not.\", \"title\": \"Basement\", \"type\": \"boolean\"}, \"nearby_features\": {\"description\": \"A list of nearby features, such as schools, parks, shopping centers, etc.\", \"title\": \"Nearby Features\", \"type\": \"string\"}, \"house_description\": {\"description\": \"A description of the house. This should be a few sentences long, and describe the house using the other fields defined.\", \"title\": \"House Description\", \"type\": \"string\"}, \"neighborhood_description\": {\"description\": \"A description of the neighborhood. This should be a few sentences long, and describe the neighborhood, including any amenities, security, schools, parks, etc.\", \"title\": \"Neighborhood Description\", \"type\": \"string\"}}, \"required\": [\"house_size\", \"neighborhood\", \"cost\", \"bedrooms\", \"bathrooms\", \"garage\", \"pool\", \"yard\", \"basement\", \"nearby_features\", \"house_description\", \"neighborhood_description\"]}\n",
      "```\n",
      "\n"
     ]
    }
   ],
   "source": [
    "# defining the prompt template to generate a realestate listing\n",
    "listing_generation_prompt = PromptTemplate(\n",
    "    template=\"Generate Real-estate Listings in the provided format. Make the listing as unique as possible.  \\n{format_instructions}\\n\",\n",
    "    partial_variables={\n",
    "        \"format_instructions\": parser.get_format_instructions()\n",
    "    }\n",
    ")\n",
    "\n",
    "# defining the prompt template to generate a realestate listing\n",
    "listing_generation_prompt = listing_generation_prompt.format()\n",
    "print(listing_generation_prompt)"
   ]
  },
  {
   "cell_type": "code",
   "execution_count": 7,
   "metadata": {},
   "outputs": [
    {
     "name": "stdout",
     "output_type": "stream",
     "text": [
      "1\n"
     ]
    },
    {
     "data": {
      "application/vnd.jupyter.widget-view+json": {
       "model_id": "e86ac3aef7e54ef488432d81a9dcdc92",
       "version_major": 2,
       "version_minor": 0
      },
      "text/plain": [
       "  0%|          | 0/50 [00:00<?, ?it/s]"
      ]
     },
     "metadata": {},
     "output_type": "display_data"
    }
   ],
   "source": [
    "# Iteratively making a call to the model to generate listings.\n",
    "print(len(all_listings))\n",
    "for i in tqdm(range(50)):\n",
    "    try:\n",
    "        if len(all_listings)<20:\n",
    "            listing_output = llm(listing_generation_prompt)\n",
    "            parsed_listing = parser.parse(listing_output)\n",
    "            parsed_listing = parsed_listing.model_dump()\n",
    "            all_listings.append(parsed_listing)\n",
    "    except Exception as e:\n",
    "        continue"
   ]
  },
  {
   "cell_type": "code",
   "execution_count": 8,
   "metadata": {},
   "outputs": [
    {
     "name": "stdout",
     "output_type": "stream",
     "text": [
      "(20, 12)\n"
     ]
    }
   ],
   "source": [
    "# Saving the generated listings into a csv file\n",
    "import pandas as pd \n",
    "df = pd.DataFrame(all_listings)\n",
    "print(df.shape)\n",
    "df.to_csv(\"house_listings.csv\", index=False)"
   ]
  },
  {
   "cell_type": "code",
   "execution_count": 9,
   "metadata": {},
   "outputs": [],
   "source": [
    "def get_final_text(house_size, neighborhood, cost, bedrooms, bathrooms, garage, pool, yard, basement, house_description, neighbourhood_description):\n",
    "    pool_text = \"The house has a pool.\" if pool else \"The house does not have a pool.\"\n",
    "    garage_text = \"The house has a garage.\" if garage else \"The house does not have a garage.\"\n",
    "    yard_text = \"The house has a yard.\" if yard else \"The house does not have a yard.\"\n",
    "    basement_text = \"The house has a basement.\" if basement else \"The house does not have a basement.\"\n",
    "    final_text = f\"\"\"The house occupies a size of {house_size} square feet, and is located in the {neighborhood} neighborhood.\\n{neighbourhood_description}.\\n\n",
    "    The house has {bedrooms} bedrooms, {bathrooms} bathrooms, and costs {cost} USD.{house_description}.\n",
    "    \"\"\" \n",
    "    final_text += pool_text + garage_text + yard_text + basement_text + house_description + neighbourhood_description\n",
    "    return final_text\n",
    "\n",
    "final_text = df.apply(lambda x: get_final_text(x.house_size, x.neighborhood, x.cost, x.bedrooms, x.bathrooms, x.garage, x.pool, x.yard, x.basement, x.house_description, x.neighborhood_description), axis=1)\n",
    "final_text.to_csv(\"final_house.csv\", index=False, header=False)"
   ]
  },
  {
   "cell_type": "markdown",
   "metadata": {},
   "source": [
    "### Observations\n",
    "* When the data is generated all at once, it is observed that the content of the fields was repeated. The temperature changes have made a difference, but the content of the fields is still repeated after a certain point.\n",
    "* The maximum tokens were also another factor to consider iterative generation. For each call, the maximum tokens were set to 2000. \n"
   ]
  },
  {
   "cell_type": "markdown",
   "metadata": {},
   "source": [
    "## 2. [Semantic Search] Defining and storing the Vector Database \n",
    "1. To create the embedding vectors, I am using OpenAIembeddings.\n",
    "2. A ChromaDB is being used to store the vectors.\n"
   ]
  },
  {
   "cell_type": "markdown",
   "metadata": {},
   "source": [
    "### Creating a Vector Database and Storing Listings"
   ]
  },
  {
   "cell_type": "code",
   "execution_count": 10,
   "metadata": {},
   "outputs": [],
   "source": [
    "#defining the embeddings and vector store\n",
    "embeddings = OpenAIEmbeddings(model=\"text-embedding-3-small\")\n",
    "\n",
    "vector_store = Chroma(\n",
    "    collection_name = 'house_listings',\n",
    "    embedding_function=embeddings,\n",
    "    persist_directory=\"./chroma_langchain_db\",  # Where to save data locally, remove if not necessary\n",
    ")"
   ]
  },
  {
   "cell_type": "code",
   "execution_count": 11,
   "metadata": {},
   "outputs": [
    {
     "name": "stderr",
     "output_type": "stream",
     "text": [
      "Created a chunk of size 1710, which is longer than the specified 1000\n",
      "Created a chunk of size 1515, which is longer than the specified 1000\n",
      "Created a chunk of size 1635, which is longer than the specified 1000\n",
      "Created a chunk of size 1681, which is longer than the specified 1000\n",
      "Created a chunk of size 1827, which is longer than the specified 1000\n",
      "Created a chunk of size 1585, which is longer than the specified 1000\n",
      "Created a chunk of size 1623, which is longer than the specified 1000\n",
      "Created a chunk of size 1669, which is longer than the specified 1000\n",
      "Created a chunk of size 1716, which is longer than the specified 1000\n",
      "Created a chunk of size 1598, which is longer than the specified 1000\n",
      "Created a chunk of size 1667, which is longer than the specified 1000\n",
      "Created a chunk of size 1544, which is longer than the specified 1000\n",
      "Created a chunk of size 1650, which is longer than the specified 1000\n",
      "Created a chunk of size 1600, which is longer than the specified 1000\n",
      "Created a chunk of size 1687, which is longer than the specified 1000\n",
      "Created a chunk of size 1617, which is longer than the specified 1000\n",
      "Created a chunk of size 1648, which is longer than the specified 1000\n",
      "Created a chunk of size 1527, which is longer than the specified 1000\n",
      "Created a chunk of size 1610, which is longer than the specified 1000\n"
     ]
    }
   ],
   "source": [
    "# Loading the data from the csv file using LangChain's CSVLoader\n",
    "loader = CSVLoader(file_path= 'final_house.csv')\n",
    "house_data = loader.load()\n",
    "splitter= CharacterTextSplitter(chunk_size=1000, chunk_overlap=200)\n",
    "split_docs = splitter.split_documents(house_data)"
   ]
  },
  {
   "cell_type": "code",
   "execution_count": 17,
   "metadata": {},
   "outputs": [
    {
     "data": {
      "text/plain": [
       "['584631ed-6d59-47b5-8972-3a65d8ede1df',\n",
       " '58d070ae-7318-4c5a-86c7-a788dff25267',\n",
       " 'f223e27e-08f8-45b9-ae4c-75327b21b15c',\n",
       " '6d83bec2-20b8-4e59-b627-f6bf8b07c3fe',\n",
       " '15aa7d5f-9bd3-4e5a-bae3-1e2bf2567d3f',\n",
       " '65a35a10-fea8-452f-ab26-20ebeba4ac9e',\n",
       " '99ead569-e615-4032-af19-396f225d9808',\n",
       " 'e1e83702-656d-4360-bc89-1d2b347b5bb1',\n",
       " 'c41ebdd3-a21b-43da-a423-37408472db83',\n",
       " 'e4df1f09-0d04-49ca-99ea-9611513e5dc8',\n",
       " '6bdf9fcf-14fb-4f58-a2a1-6b0477ea4bd8',\n",
       " 'd460e1c9-476a-415d-8742-5467755e10bf',\n",
       " '05bc609f-e814-4891-a0ff-2bafef1a0f4c',\n",
       " 'a5951780-1b75-4317-aa60-e83ce0207efa',\n",
       " 'd506323f-702b-47fd-a7d4-8265c10e11e0',\n",
       " '3c777565-daeb-4471-94e4-48ad43e62919',\n",
       " 'af1e10e0-ce76-4f24-a11b-f537a8b33646',\n",
       " '85bd9bdb-b3e4-4c7c-895d-473f948bf3dd',\n",
       " 'f1212935-ffc8-4f5c-814f-b4f7d7d5be7f',\n",
       " 'b225ef0f-4389-4f5d-9284-86c47ab7a415',\n",
       " '50fc457d-ddbc-4d4b-8cd2-9dd5faae41a3',\n",
       " 'b99bc413-aca1-4e16-814b-086c3b9912bb',\n",
       " 'c0529b40-00f4-4fa3-80a7-7e1aa3d224eb',\n",
       " 'da543dc6-798c-4d7b-a4ed-0a69bf37fb0f',\n",
       " 'd6535cc9-8b17-4313-8e08-237b73971509',\n",
       " 'c9cf7bc0-bc22-4ffc-8aa1-483943ec1042',\n",
       " '4858f6fe-8347-4fd0-9938-190f820349ec',\n",
       " '06a13c04-22e8-4882-a35f-ada1d048d96d',\n",
       " '4b49782c-aa00-4d0c-8ffe-01dc8494ce5b',\n",
       " '4a126efc-5caf-462a-b9ca-6b52e290173a',\n",
       " '868e3bea-f4d5-4733-a52e-eeb480b05c08',\n",
       " '7c4eba04-cada-4416-8603-6aa8ef1316b7',\n",
       " '1aae4465-e63f-4b27-84fa-4143e9c91659',\n",
       " '576cb2c8-be49-4d90-a7b3-011026338571',\n",
       " '1ba5aedd-2acc-4911-a404-868186e54f6b',\n",
       " 'aac7bc25-e855-4d99-88a6-e2125ce6255e',\n",
       " '763f9077-1c23-427e-8be6-514336337c80',\n",
       " '8d7584d7-9c05-4de2-9614-cb791245ec9b',\n",
       " '20140cae-9d45-4be8-8f38-012188215b92',\n",
       " 'c147d790-552f-49b3-804a-c759276e34a3',\n",
       " 'dec18c9c-d66d-4ee4-8467-7f02b1cbd8d5',\n",
       " '252ed689-1d0a-4754-8e92-d7dc94c0416b',\n",
       " '987a22c6-ec90-46a6-9a2b-5ffe9d382e32',\n",
       " '46e5039c-4dd7-482a-9ad7-5e68e111caa8',\n",
       " 'b9355c92-c75e-48a0-8f9b-35525ced5726',\n",
       " '2f3c95be-5362-4f40-bad4-24cf5dd790d9',\n",
       " 'afb8554c-3e5a-4a75-aaa7-d232c287f723',\n",
       " 'd1cf07b1-c5ba-4176-83e4-98cf36ec0c26',\n",
       " 'c15455ac-7573-46ea-9d4b-67a481d00c61',\n",
       " '6ddb20e6-41ca-410a-8779-ad8cea8a8600',\n",
       " 'a9314955-f85e-4044-97c0-82b9cacd4ae9',\n",
       " '7cefa8a5-3dfc-4d02-af2e-65682a7f5f1d',\n",
       " '3d02faf4-2f8e-4007-9922-24630948a81c',\n",
       " '8618c648-2f85-49f1-82df-25e26bbf5ac3',\n",
       " 'ac2a82cd-9cea-426e-8758-38ca3baf04d1',\n",
       " 'd9e5ece4-91da-479f-bd2c-608d8f13832f',\n",
       " '2703c4da-5333-4f8a-8597-79f552bec1e9']"
      ]
     },
     "execution_count": 17,
     "metadata": {},
     "output_type": "execute_result"
    }
   ],
   "source": [
    "vector_store.add_documents(documents=split_docs)"
   ]
  },
  {
   "cell_type": "markdown",
   "metadata": {},
   "source": [
    "### Semantic Search of listings with a simple query of preferences"
   ]
  },
  {
   "cell_type": "code",
   "execution_count": 13,
   "metadata": {},
   "outputs": [
    {
     "name": "stdout",
     "output_type": "stream",
     "text": [
      "The house has 4 bedrooms, 2 bathrooms, and costs 450000 USD.Spacious two-story home in a friendly neighborhood. Features a beautiful backyard with a pool and plenty of room for outdoor activities. The house has four bedrooms, including a master suite, and two bathrooms. The garage is a spacious two-car garage. The kitchen has been recently renovated with modern appliances and an open layout. The basement is unfinished, providing room for potential expansion..\n",
      "    The house has a pool.The house has a garage.The house has a yard.The house does not have a basement.Spacious two-story home in a friendly neighborhood. Features a beautiful backyard with a pool and plenty of room for outdoor activities. The house has four bedrooms, including a master suite, and two bathrooms. The garage is a spacious two-car garage. The kitchen has been recently renovated with modern appliances and an open layout. The basement is unfinished, providing room for potential expansion.Pleasantville is a lovely neighborhood with a strong sense of community. It has excellent schools, parks, and local amenities such as restaurants and shops. The neighborhood is also very safe with low crime rates. Perfect for families.\n"
     ]
    }
   ],
   "source": [
    "sample_query = \"\"\"\n",
    "I am looking for a house with good ventilation, a pool and a yard. \n",
    "I would like to have a house in a neighborhood with good schools and parks. \n",
    "I am looking for a house with a cost of around 100000 USD.\"\"\"\n",
    "\n",
    "# Querying the vector store with the sample query\n",
    "results = vector_store.similarity_search(query=sample_query, k=2)\n",
    "print(results[0].page_content)"
   ]
  },
  {
   "cell_type": "markdown",
   "metadata": {},
   "source": [
    "## 3. Augmented Response Generation\n",
    "In this section, the goal is to generate an augmented response for the user query. The response will be generated by using the semantic search to find the most similar listing to the user query.\n",
    "\n",
    "Points to note:\n",
    "1. The user query is currently hardcoded based on a dictionary of preferences. The additional preferences can be added or removed from the dictionary."
   ]
  },
  {
   "cell_type": "code",
   "execution_count": 14,
   "metadata": {},
   "outputs": [],
   "source": [
    "response_llm = ChatOpenAI(model_name='gpt-3.5-turbo', temperature=0.7, max_tokens=3000)"
   ]
  },
  {
   "cell_type": "code",
   "execution_count": 19,
   "metadata": {},
   "outputs": [],
   "source": [
    "def get_user_preference_query(preferences):\n",
    "    query = f\"\"\"I am looking for a house with the following requirements:\\n\\t- A house with a size of {preferences['size']} square feet.\\n\\t- A house with {preferences['bedrooms']} bedrooms.\\n\\t- A house with {preferences['bathrooms']} bathrooms.\\n\\t- A house with a budget of {preferences['budget']} USD.\\n\\t- A house in a locality that is {', '.join(preferences['locality_requirements'])}.\"\"\"\n",
    "    \n",
    "    good_to_have_things = ['garage', 'pool', 'yard', 'basement']\n",
    "    for thing in good_to_have_things:\n",
    "        if thing in preferences:\n",
    "            if preferences[thing]:\n",
    "                query += f\"\\t- A house with a {thing}.\\n\"\n",
    "            elif not preferences[thing]:\n",
    "                query += f\"\\t- A house without a {thing}.\\n\"\n",
    "        else:\n",
    "            query += f\"\\t- A house with or without a {thing}.\\n\"\n",
    "    return query + '\\nBased on these requirements, provide me with a few options.'"
   ]
  },
  {
   "cell_type": "markdown",
   "metadata": {},
   "source": [
    "### Test-1: Use of LLM for Generating Personalized Descriptions"
   ]
  },
  {
   "cell_type": "code",
   "execution_count": 15,
   "metadata": {},
   "outputs": [],
   "source": [
    "user_prefrences= {\n",
    "    'pool': True,\n",
    "    'garage': True,\n",
    "    'size': 2000,\n",
    "    'budget': 300000,\n",
    "    'locality_requirements': [\n",
    "        'in a secure environment',\n",
    "        'near good schools',\n",
    "        'clean',\n",
    "        'mountain view'\n",
    "    ],\n",
    "    'bedrooms': 3,\n",
    "    'bathrooms': 2\n",
    "}\n",
    "\n",
    "user_query = get_user_preference_query(user_prefrences)\n",
    "\n",
    "#prompt template to augment the user query with listings available\n",
    "house_rec_prompt = PromptTemplate(\n",
    "    template=\"{query}\\nContext:\\n{context}\",\n",
    "    input_variables=[\"query\", \"context\"]\n",
    ")"
   ]
  },
  {
   "cell_type": "code",
   "execution_count": 23,
   "metadata": {},
   "outputs": [
    {
     "name": "stdout",
     "output_type": "stream",
     "text": [
      "I'm sorry, but based on your requirements, I wasn't able to find a house that meets all of your criteria within your budget of 150,000 USD. The options provided above are slightly above your budget, but they do meet most of your requirements. If you are open to increasing your budget or adjusting your requirements, I can provide you with more options. Let me know how you would like to proceed.\n"
     ]
    }
   ],
   "source": [
    "#searching listing descriptions\n",
    "similar_houses = vector_store.similarity_search(query=user_query, k=3)\n",
    "\n",
    "#Using LLM to generate house recommendations\n",
    "chain = load_qa_chain(response_llm, prompt=house_rec_prompt, chain_type='stuff')\n",
    "response = chain.run(query=user_query, input_documents=similar_houses)\n",
    "print(response)"
   ]
  },
  {
   "cell_type": "markdown",
   "metadata": {},
   "source": [
    "### Test-2 : Use of LLM for Generating Personalized Descriptions"
   ]
  },
  {
   "cell_type": "code",
   "execution_count": null,
   "metadata": {},
   "outputs": [
    {
     "name": "stdout",
     "output_type": "stream",
     "text": [
      "I have found two options that meet your requirements:\n",
      "\n",
      "1. Eastwood Heights:\n",
      "- Size: 3500 square feet\n",
      "- Bedrooms: 4\n",
      "- Bathrooms: 3\n",
      "- Price: 450000 USD\n",
      "- Garage: Yes\n",
      "- Pool: No\n",
      "- Yard: Yes\n",
      "- Basement: No\n",
      "- Location: Eastwood Heights, a safe and picturesque neighborhood with top-rated schools and convenient amenities.\n",
      "\n",
      "2. Willow Heights:\n",
      "- Size: 3000 square feet\n",
      "- Bedrooms: 4\n",
      "- Bathrooms: 3\n",
      "- Price: 450000 USD\n",
      "- Garage: Yes\n",
      "- Pool: No\n",
      "- Yard: Yes\n",
      "- Basement: Yes\n",
      "- Location: Willow Heights, a peaceful and family-friendly neighborhood with great schools and amenities.\n",
      "\n",
      "Both of these options offer spacious living areas, modern designs, and outdoor spaces perfect for families. You can consider visiting these houses to see if they meet all your requirements.\n"
     ]
    }
   ],
   "source": [
    "user_prefrences= {\n",
    "    'garage': True,\n",
    "    'size': 2000,\n",
    "    'budget': 450000,\n",
    "    'locality_requirements': [\n",
    "        'in a secure environment',\n",
    "        'near good schools',\n",
    "        'clean',\n",
    "        'mountain view'\n",
    "    ],\n",
    "    'bedrooms': 4,\n",
    "    'bathrooms': 3\n",
    "}\n",
    "\n",
    "# Searching for listing options based on the user preferences\n",
    "user_query = get_user_preference_query(user_prefrences)\n",
    "similar_houses = vector_store.similarity_search(query=user_query, k=3)\n",
    "\n",
    "response = chain.run(query=user_query, input_documents=similar_houses)\n",
    "print(response)"
   ]
  }
 ],
 "metadata": {
  "kernelspec": {
   "display_name": ".venv",
   "language": "python",
   "name": "python3"
  },
  "language_info": {
   "codemirror_mode": {
    "name": "ipython",
    "version": 3
   },
   "file_extension": ".py",
   "mimetype": "text/x-python",
   "name": "python",
   "nbconvert_exporter": "python",
   "pygments_lexer": "ipython3",
   "version": "3.10.15"
  }
 },
 "nbformat": 4,
 "nbformat_minor": 2
}
